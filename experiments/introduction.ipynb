{
 "cells": [
  {
   "cell_type": "markdown",
   "metadata": {},
   "source": [
    "# Introduction to Tokenization\n",
    "\n",
    "Tokenization is the process of splitting text into smaller units called tokens. These tokens can be words, subwords, or even characters, depending on the method used.\n",
    "\n",
    "### Why is it important?\n",
    "- It’s the first step in most **NLP** pipelines.\n",
    "- Different tokenization methods can significantly impact downstream tasks like machine translation, sentiment analysis, etc."
   ]
  },
  {
   "cell_type": "code",
   "execution_count": 8,
   "metadata": {},
   "outputs": [],
   "source": [
    "# uncoment first time\n",
    "# import nltk\n",
    "# nltk.download('punkt_tab')"
   ]
  },
  {
   "cell_type": "code",
   "execution_count": null,
   "metadata": {},
   "outputs": [],
   "source": [
    "import pandas as pd\n",
    "import matplotlib.pyplot as plt\n",
    "import seaborn as sns\n",
    "from nltk.tokenize import word_tokenize\n",
    "import spacy\n",
    "\n",
    "# from utils import *\n",
    "from utils_viz import visualize_tokens"
   ]
  },
  {
   "cell_type": "markdown",
   "metadata": {},
   "source": [
    "Load sample text"
   ]
  },
  {
   "cell_type": "code",
   "execution_count": 48,
   "metadata": {},
   "outputs": [],
   "source": [
    "text = \"Although she’d planned to visit the museum—founded in 1876—on Monday, the 3.5-inch snowfall forced her to reschedule for next week’s tour.\"\n",
    "# text = \"sudo rm -rf ~/memories/childhood.cringe -> Error: File is read-only.\""
   ]
  },
  {
   "cell_type": "code",
   "execution_count": 72,
   "metadata": {},
   "outputs": [],
   "source": [
    "# whitespace tokenization\n",
    "tokens_whitespace = text.split()\n",
    "\n",
    "# nltk tokenization\n",
    "tokens_nltk = word_tokenize(text)\n",
    "\n",
    "# spacy tokenization\n",
    "nlp = spacy.load(\"en_core_web_sm\")\n",
    "doc = nlp(text)\n",
    "tokens_spacy = [token.text for token in doc]"
   ]
  },
  {
   "cell_type": "code",
   "execution_count": 74,
   "metadata": {},
   "outputs": [
    {
     "name": "stdout",
     "output_type": "stream",
     "text": [
      "\n",
      "Tokenizer: whitespace\n",
      "length: 21\n"
     ]
    },
    {
     "data": {
      "text/html": [
       "<span style=\"background-color:rgba(166,216,84,0.6); color:black; padding:3px; border-radius:5px;\">Although</span> <span style=\"background-color:rgba(179,179,179,0.6); color:black; padding:3px; border-radius:5px;\">she’d</span> <span style=\"background-color:rgba(141,160,203,0.6); color:black; padding:3px; border-radius:5px;\">planned</span> <span style=\"background-color:rgba(229,196,148,0.6); color:black; padding:3px; border-radius:5px;\">to</span> <span style=\"background-color:rgba(166,216,84,0.6); color:black; padding:3px; border-radius:5px;\">visit</span> <span style=\"background-color:rgba(231,138,195,0.6); color:black; padding:3px; border-radius:5px;\">the</span> <span style=\"background-color:rgba(252,141,98,0.6); color:black; padding:3px; border-radius:5px;\">museum—founded</span> <span style=\"background-color:rgba(102,194,165,0.6); color:black; padding:3px; border-radius:5px;\">in</span> <span style=\"background-color:rgba(252,141,98,0.6); color:black; padding:3px; border-radius:5px;\">1876—on</span> <span style=\"background-color:rgba(141,160,203,0.6); color:black; padding:3px; border-radius:5px;\">Monday,</span> <span style=\"background-color:rgba(231,138,195,0.6); color:black; padding:3px; border-radius:5px;\">the</span> <span style=\"background-color:rgba(102,194,165,0.6); color:black; padding:3px; border-radius:5px;\">3.5-inch</span> <span style=\"background-color:rgba(252,141,98,0.6); color:black; padding:3px; border-radius:5px;\">snowfall</span> <span style=\"background-color:rgba(102,194,165,0.6); color:black; padding:3px; border-radius:5px;\">forced</span> <span style=\"background-color:rgba(229,196,148,0.6); color:black; padding:3px; border-radius:5px;\">her</span> <span style=\"background-color:rgba(229,196,148,0.6); color:black; padding:3px; border-radius:5px;\">to</span> <span style=\"background-color:rgba(255,217,47,0.6); color:black; padding:3px; border-radius:5px;\">reschedule</span> <span style=\"background-color:rgba(231,138,195,0.6); color:black; padding:3px; border-radius:5px;\">for</span> <span style=\"background-color:rgba(179,179,179,0.6); color:black; padding:3px; border-radius:5px;\">next</span> <span style=\"background-color:rgba(255,217,47,0.6); color:black; padding:3px; border-radius:5px;\">week’s</span> <span style=\"background-color:rgba(141,160,203,0.6); color:black; padding:3px; border-radius:5px;\">tour.</span>"
      ],
      "text/plain": [
       "<IPython.core.display.HTML object>"
      ]
     },
     "metadata": {},
     "output_type": "display_data"
    },
    {
     "name": "stdout",
     "output_type": "stream",
     "text": [
      "\n",
      "Tokenizer: nltk\n",
      "length: 27\n"
     ]
    },
    {
     "data": {
      "text/html": [
       "<span style=\"background-color:rgba(166,216,84,0.6); color:black; padding:3px; border-radius:5px;\">Although</span> <span style=\"background-color:rgba(179,179,179,0.6); color:black; padding:3px; border-radius:5px;\">she</span> <span style=\"background-color:rgba(229,196,148,0.6); color:black; padding:3px; border-radius:5px;\">’</span> <span style=\"background-color:rgba(255,217,47,0.6); color:black; padding:3px; border-radius:5px;\">d</span> <span style=\"background-color:rgba(166,216,84,0.6); color:black; padding:3px; border-radius:5px;\">planned</span> <span style=\"background-color:rgba(252,141,98,0.6); color:black; padding:3px; border-radius:5px;\">to</span> <span style=\"background-color:rgba(229,196,148,0.6); color:black; padding:3px; border-radius:5px;\">visit</span> <span style=\"background-color:rgba(141,160,203,0.6); color:black; padding:3px; border-radius:5px;\">the</span> <span style=\"background-color:rgba(141,160,203,0.6); color:black; padding:3px; border-radius:5px;\">museum—founded</span> <span style=\"background-color:rgba(102,194,165,0.6); color:black; padding:3px; border-radius:5px;\">in</span> <span style=\"background-color:rgba(252,141,98,0.6); color:black; padding:3px; border-radius:5px;\">1876—on</span> <span style=\"background-color:rgba(102,194,165,0.6); color:black; padding:3px; border-radius:5px;\">Monday</span> <span style=\"background-color:rgba(229,196,148,0.6); color:black; padding:3px; border-radius:5px;\">,</span> <span style=\"background-color:rgba(141,160,203,0.6); color:black; padding:3px; border-radius:5px;\">the</span> <span style=\"background-color:rgba(231,138,195,0.6); color:black; padding:3px; border-radius:5px;\">3.5-inch</span> <span style=\"background-color:rgba(166,216,84,0.6); color:black; padding:3px; border-radius:5px;\">snowfall</span> <span style=\"background-color:rgba(252,141,98,0.6); color:black; padding:3px; border-radius:5px;\">forced</span> <span style=\"background-color:rgba(179,179,179,0.6); color:black; padding:3px; border-radius:5px;\">her</span> <span style=\"background-color:rgba(252,141,98,0.6); color:black; padding:3px; border-radius:5px;\">to</span> <span style=\"background-color:rgba(179,179,179,0.6); color:black; padding:3px; border-radius:5px;\">reschedule</span> <span style=\"background-color:rgba(255,217,47,0.6); color:black; padding:3px; border-radius:5px;\">for</span> <span style=\"background-color:rgba(102,194,165,0.6); color:black; padding:3px; border-radius:5px;\">next</span> <span style=\"background-color:rgba(231,138,195,0.6); color:black; padding:3px; border-radius:5px;\">week</span> <span style=\"background-color:rgba(229,196,148,0.6); color:black; padding:3px; border-radius:5px;\">’</span> <span style=\"background-color:rgba(231,138,195,0.6); color:black; padding:3px; border-radius:5px;\">s</span> <span style=\"background-color:rgba(255,217,47,0.6); color:black; padding:3px; border-radius:5px;\">tour</span> <span style=\"background-color:rgba(141,160,203,0.6); color:black; padding:3px; border-radius:5px;\">.</span>"
      ],
      "text/plain": [
       "<IPython.core.display.HTML object>"
      ]
     },
     "metadata": {},
     "output_type": "display_data"
    },
    {
     "name": "stdout",
     "output_type": "stream",
     "text": [
      "\n",
      "Tokenizer: spacy\n",
      "length: 31\n"
     ]
    },
    {
     "data": {
      "text/html": [
       "<span style=\"background-color:rgba(166,216,84,0.6); color:black; padding:3px; border-radius:5px;\">Although</span> <span style=\"background-color:rgba(229,196,148,0.6); color:black; padding:3px; border-radius:5px;\">she</span> <span style=\"background-color:rgba(141,160,203,0.6); color:black; padding:3px; border-radius:5px;\">’d</span> <span style=\"background-color:rgba(179,179,179,0.6); color:black; padding:3px; border-radius:5px;\">planned</span> <span style=\"background-color:rgba(229,196,148,0.6); color:black; padding:3px; border-radius:5px;\">to</span> <span style=\"background-color:rgba(231,138,195,0.6); color:black; padding:3px; border-radius:5px;\">visit</span> <span style=\"background-color:rgba(252,141,98,0.6); color:black; padding:3px; border-radius:5px;\">the</span> <span style=\"background-color:rgba(255,217,47,0.6); color:black; padding:3px; border-radius:5px;\">museum</span> <span style=\"background-color:rgba(231,138,195,0.6); color:black; padding:3px; border-radius:5px;\">—</span> <span style=\"background-color:rgba(102,194,165,0.6); color:black; padding:3px; border-radius:5px;\">founded</span> <span style=\"background-color:rgba(102,194,165,0.6); color:black; padding:3px; border-radius:5px;\">in</span> <span style=\"background-color:rgba(141,160,203,0.6); color:black; padding:3px; border-radius:5px;\">1876</span> <span style=\"background-color:rgba(231,138,195,0.6); color:black; padding:3px; border-radius:5px;\">—</span> <span style=\"background-color:rgba(231,138,195,0.6); color:black; padding:3px; border-radius:5px;\">on</span> <span style=\"background-color:rgba(255,217,47,0.6); color:black; padding:3px; border-radius:5px;\">Monday</span> <span style=\"background-color:rgba(102,194,165,0.6); color:black; padding:3px; border-radius:5px;\">,</span> <span style=\"background-color:rgba(252,141,98,0.6); color:black; padding:3px; border-radius:5px;\">the</span> <span style=\"background-color:rgba(141,160,203,0.6); color:black; padding:3px; border-radius:5px;\">3.5</span> <span style=\"background-color:rgba(231,138,195,0.6); color:black; padding:3px; border-radius:5px;\">-</span> <span style=\"background-color:rgba(179,179,179,0.6); color:black; padding:3px; border-radius:5px;\">inch</span> <span style=\"background-color:rgba(252,141,98,0.6); color:black; padding:3px; border-radius:5px;\">snowfall</span> <span style=\"background-color:rgba(166,216,84,0.6); color:black; padding:3px; border-radius:5px;\">forced</span> <span style=\"background-color:rgba(252,141,98,0.6); color:black; padding:3px; border-radius:5px;\">her</span> <span style=\"background-color:rgba(229,196,148,0.6); color:black; padding:3px; border-radius:5px;\">to</span> <span style=\"background-color:rgba(166,216,84,0.6); color:black; padding:3px; border-radius:5px;\">reschedule</span> <span style=\"background-color:rgba(252,141,98,0.6); color:black; padding:3px; border-radius:5px;\">for</span> <span style=\"background-color:rgba(141,160,203,0.6); color:black; padding:3px; border-radius:5px;\">next</span> <span style=\"background-color:rgba(229,196,148,0.6); color:black; padding:3px; border-radius:5px;\">week</span> <span style=\"background-color:rgba(255,217,47,0.6); color:black; padding:3px; border-radius:5px;\">’s</span> <span style=\"background-color:rgba(179,179,179,0.6); color:black; padding:3px; border-radius:5px;\">tour</span> <span style=\"background-color:rgba(102,194,165,0.6); color:black; padding:3px; border-radius:5px;\">.</span>"
      ],
      "text/plain": [
       "<IPython.core.display.HTML object>"
      ]
     },
     "metadata": {},
     "output_type": "display_data"
    }
   ],
   "source": [
    "for tokens,tokenizers in zip([tokens_whitespace, tokens_nltk, tokens_spacy],['whitespace','nltk','spacy']):\n",
    "    print(f\"\\nTokenizer: {tokenizers}\")\n",
    "    print(f\"length: {len(tokens)}\")\n",
    "    visualize_tokens(tokens)"
   ]
  }
 ],
 "metadata": {
  "kernelspec": {
   "display_name": ".venv",
   "language": "python",
   "name": "python3"
  },
  "language_info": {
   "codemirror_mode": {
    "name": "ipython",
    "version": 3
   },
   "file_extension": ".py",
   "mimetype": "text/x-python",
   "name": "python",
   "nbconvert_exporter": "python",
   "pygments_lexer": "ipython3",
   "version": "3.12.7"
  }
 },
 "nbformat": 4,
 "nbformat_minor": 2
}
